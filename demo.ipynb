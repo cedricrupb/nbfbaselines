{
 "cells": [
  {
   "cell_type": "markdown",
   "metadata": {},
   "source": [
    "# Learning to localize and repair real bugs from real bug fixes\n",
    "This accompanying notebook is an interactive demo for the RealiT bug localization and repair model. The goal is to localize and repair single token bugs in Python 3 code."
   ]
  },
  {
   "cell_type": "markdown",
   "metadata": {},
   "source": [
    "## Setup"
   ]
  },
  {
   "cell_type": "code",
   "execution_count": 4,
   "metadata": {},
   "outputs": [
    {
     "name": "stdout",
     "output_type": "stream",
     "text": [
      "mkdir: tmp: File exists\n",
      "Cloning into 'tmp'...\n",
      "Username for 'https://github.com': "
     ]
    }
   ],
   "source": [
    "!mkdir tmp\n",
    "!git clone https://github.com/cedricrupb/nbfbaselines tmp/"
   ]
  },
  {
   "cell_type": "code",
   "execution_count": null,
   "metadata": {},
   "outputs": [],
   "source": [
    "%cd tmp\n",
    "\n",
    "%pip install -r requirements.txt\n",
    "\n",
    "import nbfbaselines"
   ]
  },
  {
   "cell_type": "markdown",
   "metadata": {},
   "source": [
    "## RealiT"
   ]
  },
  {
   "cell_type": "code",
   "execution_count": 1,
   "metadata": {},
   "outputs": [],
   "source": [
    "# Load the pre-trained RealiT checkpoint\n",
    "from nbfbaselines import NBFModel\n",
    "\n",
    "realit_model = NBFModel.from_pretrained(\"realit\")"
   ]
  },
  {
   "cell_type": "markdown",
   "metadata": {},
   "source": [
    "Now, we are ready for the first test. Let's start with a simple example:"
   ]
  },
  {
   "cell_type": "code",
   "execution_count": null,
   "metadata": {},
   "outputs": [
    {
     "name": "stdout",
     "output_type": "stream",
     "text": [
      "tensor(13)\n",
      "tensor(11)\n",
      "tensor(12)\n",
      "tensor(0)\n",
      "tensor(6)\n"
     ]
    },
    {
     "data": {
      "text/plain": [
       "[{'text': 'def f ( x , y ) :\\n    return x + y\\n    ',\n",
       "  'before': 'x',\n",
       "  'after': 'y',\n",
       "  'prob': 0.981337789216316}]"
      ]
     },
     "execution_count": 2,
     "metadata": {},
     "output_type": "execute_result"
    }
   ],
   "source": [
    "# To run RealiT, we simply call the object with the Python 3 code for the analysis\n",
    "\n",
    "realit_model(\"\"\"\n",
    "\n",
    "def f(x, y):\n",
    "    return x + x\n",
    "\n",
    "\"\"\")"
   ]
  },
  {
   "cell_type": "markdown",
   "metadata": {},
   "source": [
    "If you run the cell above, you will see that RealiT successfully detected that we likely want to use `y` for the addition. It is also very confident that adding `x` with itself unlikely to happen. "
   ]
  },
  {
   "cell_type": "markdown",
   "metadata": {},
   "source": [
    "## More examples\n",
    "Now, we try more examples from the README."
   ]
  },
  {
   "cell_type": "markdown",
   "metadata": {},
   "source": [
    "**Variable Misuse:**"
   ]
  },
  {
   "cell_type": "code",
   "execution_count": null,
   "metadata": {},
   "outputs": [
    {
     "data": {
      "text/plain": [
       "[{'text': 'def compare ( x1 , x2 ) :\\n    s1 = str ( x1 )\\n    s2 = str ( x2 )\\n    return s1 == s2\\n    ',\n",
       "  'before': 'x1',\n",
       "  'after': 'x2',\n",
       "  'prob': 0.9991145826164102}]"
      ]
     },
     "execution_count": 3,
     "metadata": {},
     "output_type": "execute_result"
    }
   ],
   "source": [
    "realit_model(\"\"\"\n",
    "\n",
    "def compare(x1, x2):\n",
    "    s1 = str(x1)\n",
    "    s2 = str(x1)\n",
    "    return s1 == s2\n",
    "\n",
    "\"\"\")"
   ]
  },
  {
   "cell_type": "markdown",
   "metadata": {},
   "source": [
    "**Binary Operator Bug:**"
   ]
  },
  {
   "cell_type": "code",
   "execution_count": null,
   "metadata": {},
   "outputs": [
    {
     "data": {
      "text/plain": [
       "[{'text': 'def add_one ( L ) :\\n    i = 0\\n    while i < len ( L ) :\\n        L [ i ] = L [ i ] + 1\\n        i += 1\\n        ',\n",
       "  'before': '<=',\n",
       "  'after': '<',\n",
       "  'prob': 0.9939126001029219}]"
      ]
     },
     "execution_count": 4,
     "metadata": {},
     "output_type": "execute_result"
    }
   ],
   "source": [
    "realit_model(\"\"\"\n",
    "\n",
    "def add_one(L):\n",
    "    i = 0\n",
    "    while i <= len(L): \n",
    "        L[i] = L[i] + 1\n",
    "        i += 1\n",
    "\n",
    "\"\"\")"
   ]
  },
  {
   "cell_type": "markdown",
   "metadata": {},
   "source": [
    "**Unary Operator Bug:**"
   ]
  },
  {
   "cell_type": "code",
   "execution_count": null,
   "metadata": {},
   "outputs": [
    {
     "data": {
      "text/plain": [
       "[{'text': 'if not namespace :\\n    self . namespacesFilter = [ \"prymatex\" , \"user\" ]\\n    \\nelse :\\n    self . namespacesFilter = namespace . split ( )\\n    ',\n",
       "  'before': 'namespace',\n",
       "  'after': 'not namespace',\n",
       "  'prob': 0.9006187905922454}]"
      ]
     },
     "execution_count": 5,
     "metadata": {},
     "output_type": "execute_result"
    }
   ],
   "source": [
    "realit_model(\"\"\"\n",
    "\n",
    "if namespace:\n",
    "    self.namespacesFilter = [ \"prymatex\", \"user\" ] \n",
    "else:\n",
    "    self.namespacesFilter = namespace.split()\n",
    "\n",
    "\"\"\")"
   ]
  },
  {
   "cell_type": "markdown",
   "metadata": {},
   "source": [
    "We can observe that RealiT can also handle partial code without the need of a function implementation. However, RealiT will usually perform better if the complete function is given."
   ]
  },
  {
   "cell_type": "markdown",
   "metadata": {},
   "source": [
    "**Wrong Literal Bug:**"
   ]
  },
  {
   "cell_type": "code",
   "execution_count": null,
   "metadata": {},
   "outputs": [
    {
     "data": {
      "text/plain": [
       "[{'text': 'def add_one ( L ) :\\n    i = 0\\n    while i < len ( L ) :\\n        L [ i ] = L [ i ] + 1\\n        i += 1\\n        ',\n",
       "  'before': '2',\n",
       "  'after': '1',\n",
       "  'prob': 0.8798252121683507}]"
      ]
     },
     "execution_count": 6,
     "metadata": {},
     "output_type": "execute_result"
    }
   ],
   "source": [
    "realit_model(\"\"\"\n",
    "\n",
    "def add_one(L):\n",
    "    i = 0\n",
    "    while i < len(L): \n",
    "        L[i] = L[i] + 1\n",
    "        i += 2 \n",
    "\n",
    "\"\"\")"
   ]
  },
  {
   "cell_type": "markdown",
   "metadata": {},
   "source": [
    "**Additional: Correct program**\n",
    "\n",
    "In the following, we view a simple program that adds to numbers together"
   ]
  },
  {
   "cell_type": "code",
   "execution_count": 6,
   "metadata": {},
   "outputs": [
    {
     "data": {
      "text/plain": [
       "[{'text': 'def add ( x , y ) :\\n    \"\"\"Adds two numbers x and y\"\"\"\\n    return x + y\\n    ',\n",
       "  'before': '[CLS]',\n",
       "  'after': '#norepair#',\n",
       "  'prob': 0.386080474034792}]"
      ]
     },
     "execution_count": 6,
     "metadata": {},
     "output_type": "execute_result"
    }
   ],
   "source": [
    "realit_model('''\n",
    "\n",
    "def add(x, y):\n",
    "    \"\"\"Adds two numbers x and y\"\"\"\n",
    "    return x + y\n",
    "\n",
    "''')"
   ]
  },
  {
   "cell_type": "markdown",
   "metadata": {},
   "source": [
    "Here, the model successfully detects that the given code is correct (indicated by `#norepair#`)."
   ]
  },
  {
   "cell_type": "markdown",
   "metadata": {},
   "source": [
    "## Limitations\n",
    "While RealiT can solve all of the previously given problem, RealiT can miss a bug or identify bugs in correct code if the given implementation context is not sufficient."
   ]
  },
  {
   "cell_type": "code",
   "execution_count": null,
   "metadata": {},
   "outputs": [
    {
     "data": {
      "text/plain": [
       "[{'text': 'def add ( x , y ) :\\n    return x * y\\n    ',\n",
       "  'before': '+',\n",
       "  'after': '*',\n",
       "  'prob': 0.31847917865549624}]"
      ]
     },
     "execution_count": 10,
     "metadata": {},
     "output_type": "execute_result"
    }
   ],
   "source": [
    "realit_model(\"\"\"\n",
    "\n",
    "def add(x, y):\n",
    "    return x + y\n",
    "\n",
    "\"\"\")"
   ]
  },
  {
   "cell_type": "markdown",
   "metadata": {},
   "source": [
    "Here, while not confident in its decision, RealiT still predicts that the plus operator has to be changed into a multiplication operator."
   ]
  },
  {
   "cell_type": "markdown",
   "metadata": {},
   "source": [
    "Since RealiT is not that confident, let us look what RealiT generates if we reject the first hypothesis:"
   ]
  },
  {
   "cell_type": "code",
   "execution_count": 3,
   "metadata": {},
   "outputs": [
    {
     "data": {
      "text/plain": [
       "[{'text': 'def add ( x , y ) :\\n    return x * y\\n    ',\n",
       "  'before': '+',\n",
       "  'after': '*',\n",
       "  'prob': 0.31847917865549624},\n",
       " {'text': 'def add ( x , y ) :\\n    return x - y\\n    ',\n",
       "  'before': '+',\n",
       "  'after': '-',\n",
       "  'prob': 0.22648751427207245},\n",
       " {'text': 'def add ( x , y ) :\\n    return x + y\\n    ',\n",
       "  'before': '[CLS]',\n",
       "  'after': '#norepair#',\n",
       "  'prob': 0.22007132045823513}]"
      ]
     },
     "execution_count": 3,
     "metadata": {},
     "output_type": "execute_result"
    }
   ],
   "source": [
    "realit_model(\"\"\"\n",
    "\n",
    "def add(x, y):\n",
    "    return x + y\n",
    "\n",
    "\"\"\", topk = 3)"
   ]
  },
  {
   "cell_type": "markdown",
   "metadata": {},
   "source": [
    "`topk = 3` allows to query for the top 3 most likely repairs according to the model."
   ]
  },
  {
   "cell_type": "markdown",
   "metadata": {},
   "source": [
    "## Handling tokens\n",
    "Sometimes when working with repair models you might be interested in further processing the output. For this, it often more handy to work with a token representation instead code:"
   ]
  },
  {
   "cell_type": "code",
   "execution_count": 4,
   "metadata": {},
   "outputs": [
    {
     "data": {
      "text/plain": [
       "[{'text': 'def f ( x , y ) :\\n    return x + y\\n    ',\n",
       "  'before': 'x',\n",
       "  'after': 'y',\n",
       "  'prob': 0.981337789216316,\n",
       "  'tokens': ['[CLS]',\n",
       "   'def',\n",
       "   'f',\n",
       "   '(',\n",
       "   'x',\n",
       "   ',',\n",
       "   'y',\n",
       "   ')',\n",
       "   ':',\n",
       "   '#INDENT#',\n",
       "   'return',\n",
       "   'x',\n",
       "   '+',\n",
       "   'y',\n",
       "   '#NEWLINE#',\n",
       "   '#DEDENT#',\n",
       "   '[EOS]'],\n",
       "  'token_error_loc': 13}]"
      ]
     },
     "execution_count": 4,
     "metadata": {},
     "output_type": "execute_result"
    }
   ],
   "source": [
    "realit_model(\"\"\"\n",
    "\n",
    "def f(x, y):\n",
    "    return x + x\n",
    "\n",
    "\"\"\", \n",
    "    return_tokens = True\n",
    ")"
   ]
  },
  {
   "cell_type": "markdown",
   "metadata": {},
   "source": [
    "Here, `tokens` refers to the internal token representation used by RealiT after applying the fix. In addition, we also provide access to the predicted error location `token_error_loc`. "
   ]
  }
 ],
 "metadata": {
  "kernelspec": {
   "display_name": "Python 3.8.8 ('py38')",
   "language": "python",
   "name": "python3"
  },
  "language_info": {
   "codemirror_mode": {
    "name": "ipython",
    "version": 3
   },
   "file_extension": ".py",
   "mimetype": "text/x-python",
   "name": "python",
   "nbconvert_exporter": "python",
   "pygments_lexer": "ipython3",
   "version": "3.8.8"
  },
  "orig_nbformat": 4,
  "vscode": {
   "interpreter": {
    "hash": "1e49e4b1338c536a3b24fc51f719eff5e9bb6f42833c3172f334ab85d121b9a3"
   }
  }
 },
 "nbformat": 4,
 "nbformat_minor": 2
}
